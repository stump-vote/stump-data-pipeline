{
 "cells": [
  {
   "cell_type": "code",
   "execution_count": 3,
   "metadata": {},
   "outputs": [],
   "source": [
    "import requests\n",
    "import json"
   ]
  },
  {
   "cell_type": "code",
   "execution_count": 2,
   "metadata": {},
   "outputs": [],
   "source": [
    "api_key = '4181f09ae6ea414b945427f3eb3d8b62'"
   ]
  },
  {
   "cell_type": "code",
   "execution_count": 12,
   "metadata": {},
   "outputs": [],
   "source": [
    "\n",
    "\n",
    "class NewsAPIClient:\n",
    "    \n",
    "    BASE_URL = \"https://newsapi.org/v2\"\n",
    "    \n",
    "    def __init__(self, api_key):\n",
    "        self.api_key = api_key\n",
    "\n",
    "    def get_everything(self, query, date_from=None, date_to=None, sort_by=None):\n",
    "        endpoint_url = f'{self.BASE_URL}/everything'\n",
    "        query_params = {'q': query, 'apiKey': self.api_key, }\n",
    "        if date_from is not None:\n",
    "            query_params['from'] = date_from\n",
    "        if date_to is not None:\n",
    "            query_params['to'] = date_to\n",
    "        if sort_by is not None:\n",
    "            query_params['sortBy'] = sort_by\n",
    "            \n",
    "        query_string_args = [f'{k}={v}' for k, v in query_params.items()]\n",
    "        query_string = '&'.join(query_string_args)\n",
    "        \n",
    "        url = f'{endpoint_url}?{query_string}'  \n",
    "\n",
    "        response = requests.get(url)\n",
    "        data = json.loads(response)"
   ]
  },
  {
   "cell_type": "code",
   "execution_count": 13,
   "metadata": {},
   "outputs": [],
   "source": [
    "client = NewsAPIClient(api_key)"
   ]
  },
  {
   "cell_type": "code",
   "execution_count": 14,
   "metadata": {},
   "outputs": [],
   "source": [
    "response = client.get_everything('Trump')"
   ]
  },
  {
   "cell_type": "code",
   "execution_count": 15,
   "metadata": {},
   "outputs": [
    {
     "data": {
      "text/plain": [
       "<Response [200]>"
      ]
     },
     "execution_count": 15,
     "metadata": {},
     "output_type": "execute_result"
    }
   ],
   "source": [
    "response"
   ]
  },
  {
   "cell_type": "code",
   "execution_count": 18,
   "metadata": {},
   "outputs": [],
   "source": [
    "data = json.loads(response.text)"
   ]
  },
  {
   "cell_type": "code",
   "execution_count": 19,
   "metadata": {},
   "outputs": [
    {
     "data": {
      "text/plain": [
       "{'status': 'ok',\n",
       " 'totalResults': 144976,\n",
       " 'articles': [{'source': {'id': 'techcrunch', 'name': 'TechCrunch'},\n",
       "   'author': 'Anthony Ha',\n",
       "   'title': 'Daily Crunch: Trump to propose $850B stimulus',\n",
       "   'description': 'President Trump is preparing a massive stimulus proposal, Amazon adjusts to COVID-19 and HashiCorp is now valued at more than $5 billion. Here’s your Daily Crunch for March 17, 2020. 1. Trump administration proposes $850B stimulus package to stabilize the eco…',\n",
       "   'url': 'http://techcrunch.com/2020/03/17/daily-crunch-trump-to-propose-850b-stimulus/',\n",
       "   'urlToImage': 'https://techcrunch.com/wp-content/uploads/2020/03/GettyImages-1207390126.jpeg?w=586',\n",
       "   'publishedAt': '2020-03-17T16:36:52Z',\n",
       "   'content': 'President Trump is preparing a massive stimulus proposal, Amazon adjusts to COVID-19 and HashiCorp is now valued at more than $5 billion. Here’s your Daily Crunch for March 17, 2020.\\r\\n1. Trump administration proposes $850B stimulus package to stabilize the ec… [+3048 chars]'},\n",
       "  {'source': {'id': None, 'name': 'Lifehacker.com'},\n",
       "   'author': 'Lisa Rowan on Two Cents, shared by Lisa Rowan to Lifehacker',\n",
       "   'title': 'What You Should Know About the Student Loan Interest Waiver',\n",
       "   'description': 'On Friday, President Trump said he would waive interest on federal student loans. But the move isn’t as exciting as it sounds. Read more...',\n",
       "   'url': 'https://twocents.lifehacker.com/what-you-should-know-about-the-student-loan-interest-wa-1842358284',\n",
       "   'urlToImage': 'https://i.kinja-img.com/gawker-media/image/upload/c_fill,f_auto,fl_progressive,g_center,h_675,pg_1,q_80,w_1200/ataeegmmtp8lqsuf7w57.jpg',\n",
       "   'publishedAt': '2020-03-16T17:00:00Z',\n",
       "   'content': 'On Friday, President Trump said he would waive interest on federal student loans. But the move isnt as exciting as it sounds.\\r\\nYoull still need to make their usual payments on your federal student loans. The difference is that your entire payment will go towa… [+1969 chars]'},\n",
       "  {'source': {'id': None, 'name': 'Lifehacker.com'},\n",
       "   'author': 'Lisa Rowan on Two Cents, shared by Lisa Rowan to Lifehacker',\n",
       "   'title': 'You Can Suspend Your Federal Student Loan Payments for Two Months',\n",
       "   'description': 'President Trump said today that federal student loan borrowers can skip their payments for 60 days. But it’s not automatic. Read more...',\n",
       "   'url': 'https://twocents.lifehacker.com/you-can-suspend-your-federal-student-loan-payments-for-1842428578',\n",
       "   'urlToImage': 'https://i.kinja-img.com/gawker-media/image/upload/c_fill,f_auto,fl_progressive,g_center,h_675,pg_1,q_80,w_1200/koedzp7lo1vc0jtv9hbb.jpg',\n",
       "   'publishedAt': '2020-03-20T17:45:00Z',\n",
       "   'content': 'President Trump said today that federal student loan borrowers can skip their payments for 60 days. But its not automatic.\\r\\nFrom the Department of Educations press release:\\r\\nAll borrowers with federally held student loans will automatically have their interes… [+1776 chars]'},\n",
       "  {'source': {'id': 'wired', 'name': 'Wired'},\n",
       "   'author': 'Siva Vaidhyanathan',\n",
       "   'title': 'Google Will Not Save Us From Coronavirus',\n",
       "   'description': \"President Trump is acting like the search giant will be a deus ex machina for public health. He's out of his mind.\",\n",
       "   'url': 'https://www.wired.com/story/google-will-not-save-us-from-coronavirus/',\n",
       "   'urlToImage': 'https://media.wired.com/photos/5e6fbff4a8af50000813ca5d/191:100/w_1280,c_limit/Ideas-Google-Trump-1207061487.jpg',\n",
       "   'publishedAt': '2020-03-16T22:25:56Z',\n",
       "   'content': 'In a blog post yesterday, Verily gave at least a hint about its goals. The screening service would rely on what the company calls Project Baseline, its platform for collecting and storing personal health information in a way that purports to safeguard individ… [+4007 chars]'},\n",
       "  {'source': {'id': None, 'name': 'Lifehacker.com'},\n",
       "   'author': 'Nicole Dieker on Two Cents, shared by Nicole Dieker to Lifehacker',\n",
       "   'title': 'What You Need to Know About the Families First Coronavirus Response Act',\n",
       "   'description': 'On Wednesday, March 18, President Trump signed H.R. 6201, aka the Families First Coronavirus Response Act, into law. I’ll just go ahead and quote the bill summary, instead of trying to re-summarize it myself: Read more...',\n",
       "   'url': 'https://twocents.lifehacker.com/what-you-need-to-know-about-the-families-first-coronavi-1842427176',\n",
       "   'urlToImage': 'https://i.kinja-img.com/gawker-media/image/upload/c_fill,f_auto,fl_progressive,g_center,h_675,pg_1,q_80,w_1200/oi1btcrpsj9qkpr0fx66.jpg',\n",
       "   'publishedAt': '2020-03-20T17:30:00Z',\n",
       "   'content': 'On Wednesday, March 18, President Trump signed H.R. 6201, aka the Families First Coronavirus Response Act, into law. Ill just go ahead and quote the bill summary, instead of trying to re-summarize it myself:\\r\\nThis bill responds to the coronavirus outbreak by … [+2525 chars]'},\n",
       "  {'source': {'id': None, 'name': 'Lifehacker.com'},\n",
       "   'author': 'Lisa Rowan',\n",
       "   'title': 'The Deadline for Getting Your Real ID Has Been Postponed',\n",
       "   'description': 'President Donald Trump said on Monday that the deadline for getting a Real ID will be delayed to keep people from crowding around department of motor vehicle offices. Read more...',\n",
       "   'url': 'https://lifehacker.com/the-deadline-for-getting-your-real-id-has-been-postpone-1842472784',\n",
       "   'urlToImage': 'https://i.kinja-img.com/gawker-media/image/upload/c_fill,f_auto,fl_progressive,g_center,h_675,pg_1,q_80,w_1200/pzfgsn4iff0vrdje4dxc.jpg',\n",
       "   'publishedAt': '2020-03-24T18:30:00Z',\n",
       "   'content': 'President Donald Trump said on Monday that the deadline for getting a Real ID will be delayed to keep people from crowding around department of motor vehicle offices.\\r\\nThe new deadline has not been announced.\\r\\nA Real ID is basically a souped-up drivers licens… [+1081 chars]'},\n",
       "  {'source': {'id': 'techcrunch', 'name': 'TechCrunch'},\n",
       "   'author': 'Jonathan Shieber',\n",
       "   'title': 'Wall Street roars on news of potential stimulus deal, Trump hints at opening economy',\n",
       "   'description': 'Wall Street came roaring back Tuesday with all major indices rising on a potential deal between Senate Democrats and Republicans to approve a new stimulus package and suggestions from President Donald Trump that the economy would reopen sooner rather than lat…',\n",
       "   'url': 'http://techcrunch.com/2020/03/24/wall-street-roars-on-news-of-potential-stimulus-deal-trump-hints-at-opening-economy/',\n",
       "   'urlToImage': 'https://techcrunch.com/wp-content/uploads/2019/06/GettyImages-1051659174.jpg?w=752',\n",
       "   'publishedAt': '2020-03-24T14:39:27Z',\n",
       "   'content': 'Wall Street came roaring back Tuesday with all major indices rising on a potential deal between Senate Democrats and Republicans to approve a new stimulus package and suggestions from President Donald Trump that the economy would reopen sooner rather than lat… [+1094 chars]'},\n",
       "  {'source': {'id': 'techcrunch', 'name': 'TechCrunch'},\n",
       "   'author': 'Jonathan Shieber',\n",
       "   'title': 'President Trump declares emergency order to free funds and loosen regulations for healthcare facilities',\n",
       "   'description': 'In an announcement from the White House Friday afternoon, President Donald Trump said that he has announced an emergency declaration to free up more federal resources that states can access as they respond to the novel coronavirus outbreak. “I am officially d…',\n",
       "   'url': 'http://techcrunch.com/2020/03/13/president-trump-declares-emergency-order-to-free-funds-and-loosen-regulations-for-healthcare-facilities/',\n",
       "   'urlToImage': 'https://techcrunch.com/wp-content/uploads/2020/03/GettyImages-1206996664-1.jpg?w=601',\n",
       "   'publishedAt': '2020-03-13T20:01:01Z',\n",
       "   'content': 'In an announcement from the White House Friday afternoon, President Donald Trump said that he has announced an emergency declaration to free up more federal resources that states can access as they respond to the novel coronavirus outbreak.\\r\\n“I am officially … [+4626 chars]'},\n",
       "  {'source': {'id': 'techcrunch', 'name': 'TechCrunch'},\n",
       "   'author': 'Catherine Shu',\n",
       "   'title': 'Senate, White House reach deal on $2 trillion stimulus package to lessen COVID-19’s economic impact',\n",
       "   'description': 'After five days of negotiations, Senate leaders and the Trump administration the White House said early Wednesday morning that Senate leaders and the Trump administration have reached a deal on a $2 trillion stimulus package to help relieve the economic impac…',\n",
       "   'url': 'http://techcrunch.com/2020/03/24/senate-white-house-reach-deal-on-2-trillion-stimulus-package-to-lessen-covid-19s-economic-impact/',\n",
       "   'urlToImage': 'https://techcrunch.com/wp-content/uploads/2020/03/GettyImages-586900699.jpg?w=600',\n",
       "   'publishedAt': '2020-03-25T06:54:09Z',\n",
       "   'content': 'After five days of negotiations, Senate leaders and the Trump administration the White House said early Wednesday morning that Senate leaders and the Trump administration have reached a deal on a $2 trillion stimulus package to help relieve the economic impac… [+2120 chars]'},\n",
       "  {'source': {'id': 'wired', 'name': 'Wired'},\n",
       "   'author': 'Aarian Marshall',\n",
       "   'title': 'A Travel Ban, Gig Economy Risks, and More Car News This Week',\n",
       "   'description': 'Already ailing airlines are hit with new woes as Trump bars visitors from Europe for 30 days. Plus, is anything not canceled?',\n",
       "   'url': 'https://www.wired.com/story/travel-ban-gig-economy-risks-more-car-news/',\n",
       "   'urlToImage': 'https://media.wired.com/photos/5e6bb87013205e0008da245a/191:100/w_1280,c_limit/Transpo-subway-1206487109.jpg',\n",
       "   'publishedAt': '2020-03-15T13:00:00Z',\n",
       "   'content': 'Well, that was fast. For plenty of Americans, this week began with the regular, old commute to school or work, and ended with canceled semesters, robust work from home policies, fears about making rent next month, and canceled eventseverything from weddings t… [+2174 chars]'},\n",
       "  {'source': {'id': 'techcrunch', 'name': 'TechCrunch'},\n",
       "   'author': 'Taylor Hatmaker',\n",
       "   'title': 'The Trump administration wants to send American workers cash ‘immediately’',\n",
       "   'description': 'As the government takes drastic measures to calm markets, individual Americans might soon be seeing some dramatic measures of their own. In a White House press conference today on coronavirus measures, Treasury Secretary Steven Mnuchin signaled that the Trump…',\n",
       "   'url': 'http://techcrunch.com/2020/03/17/trump-mnuchin-cash-checks-covid-19-senate-democrats-ubi/',\n",
       "   'urlToImage': 'https://techcrunch.com/wp-content/uploads/2020/03/GettyImages-1212982922.jpg?w=559',\n",
       "   'publishedAt': '2020-03-17T17:02:12Z',\n",
       "   'content': 'As the government takes drastic measures to calm markets in the economic fallout from COVID-19, individual Americans might soon be seeing some dramatic measures of their own.\\r\\nIn a White House press conference today on coronavirus measures, Treasury Secretary… [+3464 chars]'},\n",
       "  {'source': {'id': 'cnn', 'name': 'CNN'},\n",
       "   'author': None,\n",
       "   'title': \"Tapper: How many lives affected by Trump's 'false sense of security'\",\n",
       "   'description': \"CNN's Jake Tapper replays a clip of President Donald Trump from February 2020, claiming Trump provided Americans a 'false sense of security.'\",\n",
       "   'url': 'https://www.cnn.com/videos/politics/2020/03/25/tapper-trump-white-house-february-march-response-vpx.cnn',\n",
       "   'urlToImage': 'https://cdn.cnn.com/cnnnext/dam/assets/200325181755-tapper-trump-split-super-tease.jpg',\n",
       "   'publishedAt': '2020-03-25T22:22:08Z',\n",
       "   'content': \"Chat with us in Facebook Messenger. Find out what's happening in the world as it unfolds.\"},\n",
       "  {'source': {'id': 'cnn', 'name': 'CNN'},\n",
       "   'author': None,\n",
       "   'title': \"Watch: Acosta quotes Trump's past coronavirus claims to him\",\n",
       "   'description': \"President Donald Trump criticized CNN's Jim Acosta for asking how Trump would defend his past statements that downplayed the coronavirus in the early phases of the US outbreak.\",\n",
       "   'url': 'https://www.cnn.com/videos/politics/2020/03/30/trump-coronavirus-acosta-question-sot-vpx.cnn',\n",
       "   'urlToImage': 'https://cdn.cnn.com/cnnnext/dam/assets/200330172028-president-trump-white-house-coronavirus-task-force-briefing-03302020-super-tease.jpg',\n",
       "   'publishedAt': '2020-03-30T22:30:24Z',\n",
       "   'content': \"Chat with us in Facebook Messenger. Find out what's happening in the world as it unfolds.\"},\n",
       "  {'source': {'id': 'cnn', 'name': 'CNN'},\n",
       "   'author': None,\n",
       "   'title': 'Trump announces tougher virus guidelines',\n",
       "   'description': 'President Donald Trump unveils tougher guidelines to slow the spread of the coronavirus in the US, including urging people to avoid gatherings of more than 10 people.',\n",
       "   'url': 'https://www.cnn.com/videos/politics/2020/03/16/trump-announces-guidelines-slow-coronavirus-spread-presser-sot-vpx.cnn',\n",
       "   'urlToImage': 'https://cdn.cnn.com/cnnnext/dam/assets/200316151758-01-trump-coronavirus-briefing-0316-super-tease.jpg',\n",
       "   'publishedAt': '2020-03-16T19:44:17Z',\n",
       "   'content': \"Chat with us in Facebook Messenger. Find out what's happening in the world as it unfolds.\"},\n",
       "  {'source': {'id': 'mashable', 'name': 'Mashable'},\n",
       "   'author': 'Anna Iovine',\n",
       "   'title': \"Trump's coronavirus advice is literally the opposite of what he's doing\",\n",
       "   'description': 'A surprise White House press conference Saturday offered plenty of coronavirus news: The U.S. travel ban will be extended to the UK and Ireland, domestic travel may be restricted, and the president has taken a coronavirus test (result currently unknown). But …',\n",
       "   'url': 'https://mashable.com/article/trump-coronavirus-press-conference-social-distancing/',\n",
       "   'urlToImage': 'https://mondrian.mashable.com/2020%252F03%252F14%252F1f%252F700fe86e26554bebb140a1e3aac11179.1e5f9.png%252F1200x630.png?signature=9ixZ9At16IYMOfHs5NZV_CxkDr4=',\n",
       "   'publishedAt': '2020-03-14T17:12:01Z',\n",
       "   'content': 'A surprise White House press conference Saturday offered plenty of coronavirus news: The U.S. travel ban will be extended to the UK and Ireland, domestic travel may be restricted, and the president has taken a coronavirus test (result currently unknown). But … [+2178 chars]'},\n",
       "  {'source': {'id': 'cnn', 'name': 'CNN'},\n",
       "   'author': 'Kaitlan Collins and Sarah Westwood, CNN',\n",
       "   'title': 'Trump campaign sends letter to Sessions demanding he stop invoking Trump',\n",
       "   'description': \"President Donald Trump's campaign has sent a letter to Jeff Sessions demanding the former attorney general stop using Trump's name in his campaign materials for his US Senate bid.\",\n",
       "   'url': 'https://www.cnn.com/2020/04/02/politics/donald-trump-jeff-sessions-letter/index.html',\n",
       "   'urlToImage': 'https://cdn.cnn.com/cnnnext/dam/assets/171215110109-trump-and-sessions-2-december-15-2017-super-tease.jpg',\n",
       "   'publishedAt': '2020-04-02T18:12:41Z',\n",
       "   'content': None},\n",
       "  {'source': {'id': 'the-verge', 'name': 'The Verge'},\n",
       "   'author': 'Kim Lyons',\n",
       "   'title': 'The White House still can’t explain what’s going on with the coronavirus screening website',\n",
       "   'description': 'The White House gave conflicting information Saturday about a website to help people determine whether and how to get a novel coronavirus test. And President Trump said he was tested for the virus Friday night and was awaiting the results.',\n",
       "   'url': 'https://www.theverge.com/2020/3/14/21179776/president-trump-coronavirus-test-white-house-pence-travel',\n",
       "   'urlToImage': 'https://cdn.vox-cdn.com/thumbor/gtox-iZz2CUeeMAtcGJ0a54nH14=/0x334:4655x2771/fit-in/1200x630/cdn.vox-cdn.com/uploads/chorus_asset/file/19806985/1212392001.jpg.jpg',\n",
       "   'publishedAt': '2020-03-14T18:29:23Z',\n",
       "   'content': 'Verily, not Google, has said it will launch a website serving only the Bay Area\\r\\nPhoto by Tasos Katopodis/Getty Images\\r\\nThe White House continued to give conflicting information Saturday about a website Google is supposedly building to help people determine w… [+3749 chars]'},\n",
       "  {'source': {'id': 'the-verge', 'name': 'The Verge'},\n",
       "   'author': \"Sean O'Kane\",\n",
       "   'title': 'Don’t bail out the cruise industry',\n",
       "   'description': 'President Donald Trump said cruise ship companies are a “prime candidate” for a bailout, along with airlines. But there are many reasons not to hand over billions of dollars in cash to the cruise industry.',\n",
       "   'url': 'https://www.theverge.com/2020/3/23/21187076/cruise-line-industry-bailout-trump-coronavirus-us-companies-tax',\n",
       "   'urlToImage': 'https://cdn.vox-cdn.com/thumbor/SjY-x3KZ7wn0Z8cfocA_Bh0rbjE=/0x215:3000x1786/fit-in/1200x630/cdn.vox-cdn.com/uploads/chorus_asset/file/19826278/590222848.jpg.jpg',\n",
       "   'publishedAt': '2020-03-23T19:00:12Z',\n",
       "   'content': 'Trump said its a prime candidate, but there are plenty of reasons not to\\r\\nPhoto by Ben McCanna / Portland Portland Press Herald via Getty Images\\r\\nThe United States economy is grinding to a halt as the country grapples with the novel coronavirus pandemic, and … [+6907 chars]'},\n",
       "  {'source': {'id': 'the-verge', 'name': 'The Verge'},\n",
       "   'author': 'Justine Calma',\n",
       "   'title': 'Migrants aren’t to blame for COVID-19',\n",
       "   'description': 'The Trump administration is using the COVID-19 pandemic as an excuse for hard-line immigration policies. The novel coronavirus is already widespread in the US, and it’s useless to scapegoat migrants at our borders.',\n",
       "   'url': 'https://www.theverge.com/2020/3/27/21196100/immigration-borders-covid-19-coronavirus',\n",
       "   'urlToImage': 'https://cdn.vox-cdn.com/thumbor/hvoiZSIt5mq7ejPGYqy9MDM8mhY=/0x420:3037x2010/fit-in/1200x630/cdn.vox-cdn.com/uploads/chorus_asset/file/19852960/1206512196.jpg.jpg',\n",
       "   'publishedAt': '2020-03-27T12:15:00Z',\n",
       "   'content': 'This is no time to crack down on immigration\\r\\nPhoto by Jaap Arriens/NurPhoto via Getty Images\\r\\nTo get myself through the pandemic, Ive been summoning everything Ive learned about surviving in a new world as an immigrant. I left the Philippines as a kid to joi… [+7654 chars]'},\n",
       "  {'source': {'id': 'the-verge', 'name': 'The Verge'},\n",
       "   'author': 'Russell Brandom',\n",
       "   'title': 'Relaxing isolation rules won’t help the economy, say economists',\n",
       "   'description': 'President Donald Trump has pushed to relax social distancing and shelter-in-place rules by Easter Sunday, April 12th, but economists say relaxing restrictions could make the economic damage even worse.',\n",
       "   'url': 'https://www.theverge.com/2020/3/25/21193670/trump-easter-coronavirus-isolation-relax-rules-economy-social-distancing',\n",
       "   'urlToImage': 'https://cdn.vox-cdn.com/thumbor/0Tupek3aPuU95Pc9H1cFIcxpoAk=/0x316:4416x2628/fit-in/1200x630/cdn.vox-cdn.com/uploads/chorus_asset/file/19831887/1213734411.jpg.jpg',\n",
       "   'publishedAt': '2020-03-25T12:36:51Z',\n",
       "   'content': 'President Trump is pushing to ease restrictions by Easter, but it would only make the pandemic worse\\r\\nPhoto by Spencer Platt/Getty Images\\r\\nAs the COVID-19 pandemic stretches into its second month and shows no signs of slowing, President Donald Trump has pushe… [+5345 chars]'}]}"
      ]
     },
     "execution_count": 19,
     "metadata": {},
     "output_type": "execute_result"
    }
   ],
   "source": [
    "data"
   ]
  },
  {
   "cell_type": "code",
   "execution_count": 20,
   "metadata": {},
   "outputs": [],
   "source": [
    "articles = data['articles']"
   ]
  },
  {
   "cell_type": "code",
   "execution_count": 21,
   "metadata": {},
   "outputs": [
    {
     "data": {
      "text/plain": [
       "20"
      ]
     },
     "execution_count": 21,
     "metadata": {},
     "output_type": "execute_result"
    }
   ],
   "source": [
    "len(articles)"
   ]
  },
  {
   "cell_type": "code",
   "execution_count": 22,
   "metadata": {},
   "outputs": [
    {
     "data": {
      "text/plain": [
       "{'source': {'id': None, 'name': 'Lifehacker.com'},\n",
       " 'author': 'Lisa Rowan on Two Cents, shared by Lisa Rowan to Lifehacker',\n",
       " 'title': 'What You Should Know About the Student Loan Interest Waiver',\n",
       " 'description': 'On Friday, President Trump said he would waive interest on federal student loans. But the move isn’t as exciting as it sounds. Read more...',\n",
       " 'url': 'https://twocents.lifehacker.com/what-you-should-know-about-the-student-loan-interest-wa-1842358284',\n",
       " 'urlToImage': 'https://i.kinja-img.com/gawker-media/image/upload/c_fill,f_auto,fl_progressive,g_center,h_675,pg_1,q_80,w_1200/ataeegmmtp8lqsuf7w57.jpg',\n",
       " 'publishedAt': '2020-03-16T17:00:00Z',\n",
       " 'content': 'On Friday, President Trump said he would waive interest on federal student loans. But the move isnt as exciting as it sounds.\\r\\nYoull still need to make their usual payments on your federal student loans. The difference is that your entire payment will go towa… [+1969 chars]'}"
      ]
     },
     "execution_count": 22,
     "metadata": {},
     "output_type": "execute_result"
    }
   ],
   "source": [
    "articles[1]"
   ]
  },
  {
   "cell_type": "code",
   "execution_count": null,
   "metadata": {},
   "outputs": [],
   "source": [
    "from dataclasses import dataclass\n",
    "\n",
    "@dataclass\n"
   ]
  }
 ],
 "metadata": {
  "kernelspec": {
   "display_name": "Python 3",
   "language": "python",
   "name": "python3"
  },
  "language_info": {
   "codemirror_mode": {
    "name": "ipython",
    "version": 3
   },
   "file_extension": ".py",
   "mimetype": "text/x-python",
   "name": "python",
   "nbconvert_exporter": "python",
   "pygments_lexer": "ipython3",
   "version": "3.7.6"
  }
 },
 "nbformat": 4,
 "nbformat_minor": 4
}
